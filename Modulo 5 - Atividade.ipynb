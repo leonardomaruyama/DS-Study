{
 "cells": [
  {
   "cell_type": "code",
   "execution_count": 1,
   "metadata": {},
   "outputs": [],
   "source": [
    "import numpy as np\n",
    "import pandas as pd"
   ]
  },
  {
   "cell_type": "markdown",
   "metadata": {},
   "source": [
    "Considere os arrays numpy X, y abaixo:"
   ]
  },
  {
   "cell_type": "code",
   "execution_count": 2,
   "metadata": {},
   "outputs": [],
   "source": [
    "from sklearn.datasets import load_iris\n",
    "\n",
    "X = load_iris().data\n",
    "y = load_iris().target"
   ]
  },
  {
   "cell_type": "code",
   "execution_count": 3,
   "metadata": {},
   "outputs": [
    {
     "data": {
      "text/plain": [
       "array([[5.1, 3.5, 1.4, 0.2],\n",
       "       [4.9, 3. , 1.4, 0.2],\n",
       "       [4.7, 3.2, 1.3, 0.2],\n",
       "       [4.6, 3.1, 1.5, 0.2],\n",
       "       [5. , 3.6, 1.4, 0.2],\n",
       "       [5.4, 3.9, 1.7, 0.4],\n",
       "       [4.6, 3.4, 1.4, 0.3],\n",
       "       [5. , 3.4, 1.5, 0.2],\n",
       "       [4.4, 2.9, 1.4, 0.2],\n",
       "       [4.9, 3.1, 1.5, 0.1]])"
      ]
     },
     "execution_count": 3,
     "metadata": {},
     "output_type": "execute_result"
    }
   ],
   "source": [
    "X[:10]"
   ]
  },
  {
   "cell_type": "code",
   "execution_count": 4,
   "metadata": {},
   "outputs": [
    {
     "data": {
      "text/plain": [
       "array([0, 0, 0, 0, 0, 0, 0, 0, 0, 0])"
      ]
     },
     "execution_count": 4,
     "metadata": {},
     "output_type": "execute_result"
    }
   ],
   "source": [
    "y[:10]"
   ]
  },
  {
   "cell_type": "code",
   "execution_count": null,
   "metadata": {},
   "outputs": [],
   "source": []
  },
  {
   "cell_type": "markdown",
   "metadata": {},
   "source": [
    "__Exercício 1:__ Crie um dataframe df do pandas a partir de X, y.\n",
    "\n",
    "Primeiro, concatene os arrays numpy. Na sequência transforme o array final para um dataframe. Altere o nome das colunas para 'X1', 'X2', 'X3', 'X4' e 'target'."
   ]
  },
  {
   "cell_type": "code",
   "execution_count": 5,
   "metadata": {},
   "outputs": [],
   "source": [
    "df_X = pd.DataFrame(X, columns=[\"X1\",\"X2\",\"X3\",\"X4\"])\n",
    "df_y = pd.DataFrame(y, columns=[\"target\"])"
   ]
  },
  {
   "cell_type": "code",
   "execution_count": 6,
   "metadata": {},
   "outputs": [],
   "source": [
    "df = pd.concat([df_X,df_y], axis=1)"
   ]
  },
  {
   "cell_type": "markdown",
   "metadata": {},
   "source": [
    "__Exercício 2:__ Usando o df criado no exercício 1, calcule qual a média da variável 'X2', para cada valor de target. Dica: Use a função groupby no dataframe df para resolver."
   ]
  },
  {
   "cell_type": "code",
   "execution_count": 7,
   "metadata": {},
   "outputs": [],
   "source": [
    "df_X2_mean = df.groupby('target').agg({\"X2\":'mean'})"
   ]
  },
  {
   "cell_type": "code",
   "execution_count": 8,
   "metadata": {},
   "outputs": [
    {
     "name": "stdout",
     "output_type": "stream",
     "text": [
      "           X2\n",
      "target       \n",
      "0       3.428\n",
      "1       2.770\n",
      "2       2.974\n"
     ]
    }
   ],
   "source": [
    "print(df_X2_mean)"
   ]
  },
  {
   "cell_type": "markdown",
   "metadata": {},
   "source": [
    "__Exercício 3:__ Construa um dicionário mapeando os valores:\n",
    "        \n",
    "        0 - 'A'\n",
    "        \n",
    "        1 - 'B'\n",
    "        \n",
    "        2 - 'C'\n",
    "        \n",
    "Usando a função map, crie uma coluna nova no dataframe df chamada 'target_2' com o mapeamento feito. Dica: Use a função map como visto em aula."
   ]
  },
  {
   "cell_type": "code",
   "execution_count": 9,
   "metadata": {},
   "outputs": [
    {
     "data": {
      "text/plain": [
       "array(['A', 'B', 'C'], dtype=object)"
      ]
     },
     "execution_count": 9,
     "metadata": {},
     "output_type": "execute_result"
    }
   ],
   "source": [
    "df[\"target_2\"] = df.target.map({0:'A',1:'B',2:'C'})\n",
    "df[\"target_2\"].unique()"
   ]
  },
  {
   "cell_type": "code",
   "execution_count": 10,
   "metadata": {},
   "outputs": [
    {
     "name": "stdout",
     "output_type": "stream",
     "text": [
      "    X1   X2   X3   X4  target target_2\n",
      "0  5.1  3.5  1.4  0.2       0        A\n",
      "1  4.9  3.0  1.4  0.2       0        A\n",
      "2  4.7  3.2  1.3  0.2       0        A\n",
      "3  4.6  3.1  1.5  0.2       0        A\n",
      "4  5.0  3.6  1.4  0.2       0        A\n"
     ]
    }
   ],
   "source": [
    "print(df.head(5))"
   ]
  },
  {
   "cell_type": "markdown",
   "metadata": {},
   "source": [
    "__Exercício 4:__ \n",
    "\n",
    "\n",
    "4.1: Filtre o dataframe df onde X1 é maior do que 6 __ou__ target é diferente de 2 e chame-o de df1. Dica: usar os filtros e os operadores vistos em aula;\n",
    "\n",
    "4.2: Filtre os primeiros 15 índices do dataframe df e chame-o de df2;\n",
    "\n",
    "4.3: Transformando os dataframes df1 e df2 para arrays. Multiplique df1 pelo transposto de df2 (use a função que calcula transposta de matriz) e printe o resultado final. Lembre-se de dropar a coluna target_2 de cada um dos dataframes antes de fazer a mutliplicação."
   ]
  },
  {
   "cell_type": "code",
   "execution_count": 11,
   "metadata": {},
   "outputs": [
    {
     "name": "stdout",
     "output_type": "stream",
     "text": [
      "    X1   X2   X3   X4  target target_2\n",
      "0  5.1  3.5  1.4  0.2       0        A\n",
      "1  4.9  3.0  1.4  0.2       0        A\n",
      "2  4.7  3.2  1.3  0.2       0        A\n",
      "3  4.6  3.1  1.5  0.2       0        A\n",
      "4  5.0  3.6  1.4  0.2       0        A\n"
     ]
    }
   ],
   "source": [
    "df1 = df[(df.X1 > 6) | (df.target != 2)]\n",
    "print(df1.head(5))"
   ]
  },
  {
   "cell_type": "code",
   "execution_count": 12,
   "metadata": {},
   "outputs": [
    {
     "name": "stdout",
     "output_type": "stream",
     "text": [
      "     X1   X2   X3   X4  target target_2\n",
      "0   5.1  3.5  1.4  0.2       0        A\n",
      "1   4.9  3.0  1.4  0.2       0        A\n",
      "2   4.7  3.2  1.3  0.2       0        A\n",
      "3   4.6  3.1  1.5  0.2       0        A\n",
      "4   5.0  3.6  1.4  0.2       0        A\n",
      "5   5.4  3.9  1.7  0.4       0        A\n",
      "6   4.6  3.4  1.4  0.3       0        A\n",
      "7   5.0  3.4  1.5  0.2       0        A\n",
      "8   4.4  2.9  1.4  0.2       0        A\n",
      "9   4.9  3.1  1.5  0.1       0        A\n",
      "10  5.4  3.7  1.5  0.2       0        A\n",
      "11  4.8  3.4  1.6  0.2       0        A\n",
      "12  4.8  3.0  1.4  0.1       0        A\n",
      "13  4.3  3.0  1.1  0.1       0        A\n",
      "14  5.8  4.0  1.2  0.2       0        A\n"
     ]
    }
   ],
   "source": [
    "df2 = df[:15]\n",
    "print(df2)"
   ]
  },
  {
   "cell_type": "code",
   "execution_count": 13,
   "metadata": {},
   "outputs": [
    {
     "name": "stdout",
     "output_type": "stream",
     "text": [
      "[[40.26 37.49 37.03 ... 36.96 33.99 45.3 ]\n",
      " [37.49 35.01 34.49 ... 34.5  31.63 42.14]\n",
      " [37.03 34.49 34.06 ... 34.   31.26 41.66]\n",
      " ...\n",
      " [48.26 45.75 44.49 ... 44.93 40.28 52.92]\n",
      " [51.33 48.53 47.31 ... 47.68 42.87 56.34]\n",
      " [51.54 48.6  47.5  ... 47.75 43.03 56.5 ]]\n"
     ]
    }
   ],
   "source": [
    "df1 = df1.drop(\"target_2\", axis = 1).to_numpy()\n",
    "df2 = df2.drop(\"target_2\", axis = 1).to_numpy()\n",
    "print(np.dot(df1,df2.T))"
   ]
  },
  {
   "cell_type": "markdown",
   "metadata": {},
   "source": [
    "__Exercício 5:__ \n",
    "    \n",
    "5.1: Crie uma função que receba um  número inteiro positivo N e retorne um array 0, 1, ..., N. Dica: Use as funções que vimos para criação de arrays;\n",
    "    \n",
    "5.2: Crie uma função que receba um array [0,1, .., N] e retorne o mesmo array, só que com os números em posições aleatórias. Dica: use a função que vimos em aula que faz escolhas aleatórias SEM reposição;\n",
    "\n",
    "5.3: Crie uma função que receba um número inteiro positivo N. Essa função deve retornar um array de tamanho N, cujos valores são números inteiros entre 0 e N-1 e pode haver repetição desses números."
   ]
  },
  {
   "cell_type": "code",
   "execution_count": 14,
   "metadata": {},
   "outputs": [
    {
     "data": {
      "text/plain": [
       "array([ 0,  1,  2,  3,  4,  5,  6,  7,  8,  9, 10, 11])"
      ]
     },
     "execution_count": 14,
     "metadata": {},
     "output_type": "execute_result"
    }
   ],
   "source": [
    "def numero(n):\n",
    "    arr_num = np.arange(n)\n",
    "    return arr_num\n",
    "numero(12)"
   ]
  },
  {
   "cell_type": "code",
   "execution_count": 15,
   "metadata": {},
   "outputs": [
    {
     "data": {
      "text/plain": [
       "array([7, 6, 4, 8, 3, 5, 1, 2, 9, 0])"
      ]
     },
     "execution_count": 15,
     "metadata": {},
     "output_type": "execute_result"
    }
   ],
   "source": [
    "def numero(n):\n",
    "    arr_num = np.arange(n)\n",
    "    arr_num = np.random.choice(arr_num,size = n, replace=False)\n",
    "    return arr_num\n",
    "numero(10)"
   ]
  },
  {
   "cell_type": "code",
   "execution_count": 16,
   "metadata": {},
   "outputs": [
    {
     "data": {
      "text/plain": [
       "array([ 6,  8, 10,  9,  0,  4,  8,  1,  0,  1,  8,  9])"
      ]
     },
     "execution_count": 16,
     "metadata": {},
     "output_type": "execute_result"
    }
   ],
   "source": [
    "def numero(n):\n",
    "    arr_num = np.random.randint(0,n,size=n)\n",
    "    return arr_num\n",
    "numero(12)"
   ]
  },
  {
   "cell_type": "markdown",
   "metadata": {},
   "source": [
    "__Exercício 6:__ Construa uma função divide_dados:\n",
    "        \n",
    "        - recebe um array X de dimensões quaisquer (n,k) e um parâmetro p entre 0 e 1.\n",
    "        - divide o array X em duas partes disjuntas de forma aleatória. Ou seja, crie dois novos arrays, X1 e X2,\n",
    "        onde a dimensão de linhas de X1 somada com a dimensão de linhas de X2 deve ser igual a dimensão de linhas de X.\n",
    "        - interpretando p como percentual, o tamanho de X1 deve ser p*100% do número de linhas de X; enquanto X2 deve ser o resto.\n",
    "        - retorne esses dois arrays.\n",
    "        \n",
    "       "
   ]
  },
  {
   "cell_type": "code",
   "execution_count": 17,
   "metadata": {},
   "outputs": [],
   "source": [
    "def divide_dados(array, p):\n",
    "    cp_array = array\n",
    "    np.random.shuffle(cp_array)\n",
    "    maximo = int(len(array)*p)\n",
    "    X1 = array[:maximo]\n",
    "    X2 = array[maximo:]\n",
    "    return X1, X2"
   ]
  },
  {
   "cell_type": "code",
   "execution_count": 18,
   "metadata": {},
   "outputs": [],
   "source": [
    "bid_array = np.array([[1,2,3,0,5],[4,5,6,1,2]])"
   ]
  },
  {
   "cell_type": "code",
   "execution_count": 19,
   "metadata": {},
   "outputs": [],
   "source": [
    "X1, X2 = divide_dados(bid_array, 0.75)"
   ]
  },
  {
   "cell_type": "code",
   "execution_count": 20,
   "metadata": {},
   "outputs": [
    {
     "name": "stdout",
     "output_type": "stream",
     "text": [
      "[[1 2 3 0 5]]\n"
     ]
    }
   ],
   "source": [
    "print(X1)"
   ]
  },
  {
   "cell_type": "code",
   "execution_count": 21,
   "metadata": {},
   "outputs": [
    {
     "name": "stdout",
     "output_type": "stream",
     "text": [
      "[[4 5 6 1 2]]\n"
     ]
    }
   ],
   "source": [
    "print(X2)"
   ]
  },
  {
   "cell_type": "code",
   "execution_count": null,
   "metadata": {},
   "outputs": [],
   "source": []
  }
 ],
 "metadata": {
  "kernelspec": {
   "display_name": "Python 3",
   "language": "python",
   "name": "python3"
  },
  "language_info": {
   "codemirror_mode": {
    "name": "ipython",
    "version": 3
   },
   "file_extension": ".py",
   "mimetype": "text/x-python",
   "name": "python",
   "nbconvert_exporter": "python",
   "pygments_lexer": "ipython3",
   "version": "3.8.8"
  }
 },
 "nbformat": 4,
 "nbformat_minor": 2
}
