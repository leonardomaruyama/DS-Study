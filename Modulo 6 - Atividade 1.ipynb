{
 "cells": [
  {
   "cell_type": "markdown",
   "id": "14f58cdf",
   "metadata": {},
   "source": [
    "# Exercícios 1 e 3 (tarefa para retorno 1)"
   ]
  },
  {
   "cell_type": "markdown",
   "id": "307d4984",
   "metadata": {},
   "source": [
    "### Ex. 1: Analise e quantifique a relação da variável survived com a variável sex usando o conjunto de dados do titanic. Faça seus gráficos e calcule o chi-quadrado para quantificar a relação.\n",
    "\n",
    "\n",
    "**Explicação:** aqui iremos verificar se a sobrevivência tem relação direta com o sexo do passageiro, ou seja, a taxa de mulheres sobreviventes foi maior do que a de homens? \n",
    "\n",
    "É importante ter sempre em mente a hipótese que queremos testar, nesse caso pode ser por exemplo: \n",
    "\n",
    "    - h0 = a taxa de sobrevivência tem relação direta com o sexo do passageiro. (Hipótese nula)\n",
    "    - h1 = a taxa de sobrevivência não tem relação direta com o sexo do passageiro. (Hipótese alternativa)\n",
    "\n",
    "Aqui estamos estudando duas variáveis categóricas: survived = 0 ou 1 e sex = male ou female, por isso podemos usar o chi-quadrado.\n",
    "\n",
    "O chi-quadrado tem como princípio básico comparar proporções, ou seja, possíveis divergências entre as frequências observadas e esperadas para um certo evento.\n",
    "\n",
    "\n",
    "**Etapas básicas:**\n",
    "\n",
    "- Carregar os dados titanic.csv;\n",
    "- Analisar a tabela;\n",
    "- Estudar a relação entre as variáveis survived e sex;\n",
    "    - Criar diferentes gráficos\n",
    "    - Calcular chi-quadrado\n",
    "    \n",
    "\n",
    "Obs.: Todos os códigos são correspondentes aos códigos vistos em aula!"
   ]
  },
  {
   "cell_type": "markdown",
   "id": "66c1cc90",
   "metadata": {},
   "source": [
    "#### a) Carregar bibliotecas e os dados"
   ]
  },
  {
   "cell_type": "code",
   "execution_count": 1,
   "id": "ffb096eb",
   "metadata": {},
   "outputs": [],
   "source": [
    "# Bibliotecas essenciais\n",
    "\n",
    "import matplotlib.pyplot as plt\n",
    "import pandas as pd\n",
    "import numpy as np"
   ]
  },
  {
   "cell_type": "code",
   "execution_count": 2,
   "id": "89c601fe",
   "metadata": {},
   "outputs": [
    {
     "name": "stdout",
     "output_type": "stream",
     "text": [
      "(891, 12)\n"
     ]
    },
    {
     "data": {
      "text/html": [
       "<div>\n",
       "<style scoped>\n",
       "    .dataframe tbody tr th:only-of-type {\n",
       "        vertical-align: middle;\n",
       "    }\n",
       "\n",
       "    .dataframe tbody tr th {\n",
       "        vertical-align: top;\n",
       "    }\n",
       "\n",
       "    .dataframe thead th {\n",
       "        text-align: right;\n",
       "    }\n",
       "</style>\n",
       "<table border=\"1\" class=\"dataframe\">\n",
       "  <thead>\n",
       "    <tr style=\"text-align: right;\">\n",
       "      <th></th>\n",
       "      <th>PassengerId</th>\n",
       "      <th>Survived</th>\n",
       "      <th>Pclass</th>\n",
       "      <th>Name</th>\n",
       "      <th>Sex</th>\n",
       "      <th>Age</th>\n",
       "      <th>SibSp</th>\n",
       "      <th>Parch</th>\n",
       "      <th>Ticket</th>\n",
       "      <th>Fare</th>\n",
       "      <th>Cabin</th>\n",
       "      <th>Embarked</th>\n",
       "    </tr>\n",
       "  </thead>\n",
       "  <tbody>\n",
       "    <tr>\n",
       "      <th>0</th>\n",
       "      <td>1</td>\n",
       "      <td>0</td>\n",
       "      <td>3</td>\n",
       "      <td>Braund, Mr. Owen Harris</td>\n",
       "      <td>male</td>\n",
       "      <td>22.0</td>\n",
       "      <td>1</td>\n",
       "      <td>0</td>\n",
       "      <td>A/5 21171</td>\n",
       "      <td>7.2500</td>\n",
       "      <td>NaN</td>\n",
       "      <td>S</td>\n",
       "    </tr>\n",
       "    <tr>\n",
       "      <th>1</th>\n",
       "      <td>2</td>\n",
       "      <td>1</td>\n",
       "      <td>1</td>\n",
       "      <td>Cumings, Mrs. John Bradley (Florence Briggs Th...</td>\n",
       "      <td>female</td>\n",
       "      <td>38.0</td>\n",
       "      <td>1</td>\n",
       "      <td>0</td>\n",
       "      <td>PC 17599</td>\n",
       "      <td>71.2833</td>\n",
       "      <td>C85</td>\n",
       "      <td>C</td>\n",
       "    </tr>\n",
       "    <tr>\n",
       "      <th>2</th>\n",
       "      <td>3</td>\n",
       "      <td>1</td>\n",
       "      <td>3</td>\n",
       "      <td>Heikkinen, Miss. Laina</td>\n",
       "      <td>female</td>\n",
       "      <td>26.0</td>\n",
       "      <td>0</td>\n",
       "      <td>0</td>\n",
       "      <td>STON/O2. 3101282</td>\n",
       "      <td>7.9250</td>\n",
       "      <td>NaN</td>\n",
       "      <td>S</td>\n",
       "    </tr>\n",
       "    <tr>\n",
       "      <th>3</th>\n",
       "      <td>4</td>\n",
       "      <td>1</td>\n",
       "      <td>1</td>\n",
       "      <td>Futrelle, Mrs. Jacques Heath (Lily May Peel)</td>\n",
       "      <td>female</td>\n",
       "      <td>35.0</td>\n",
       "      <td>1</td>\n",
       "      <td>0</td>\n",
       "      <td>113803</td>\n",
       "      <td>53.1000</td>\n",
       "      <td>C123</td>\n",
       "      <td>S</td>\n",
       "    </tr>\n",
       "    <tr>\n",
       "      <th>4</th>\n",
       "      <td>5</td>\n",
       "      <td>0</td>\n",
       "      <td>3</td>\n",
       "      <td>Allen, Mr. William Henry</td>\n",
       "      <td>male</td>\n",
       "      <td>35.0</td>\n",
       "      <td>0</td>\n",
       "      <td>0</td>\n",
       "      <td>373450</td>\n",
       "      <td>8.0500</td>\n",
       "      <td>NaN</td>\n",
       "      <td>S</td>\n",
       "    </tr>\n",
       "  </tbody>\n",
       "</table>\n",
       "</div>"
      ],
      "text/plain": [
       "   PassengerId  Survived  Pclass  \\\n",
       "0            1         0       3   \n",
       "1            2         1       1   \n",
       "2            3         1       3   \n",
       "3            4         1       1   \n",
       "4            5         0       3   \n",
       "\n",
       "                                                Name     Sex   Age  SibSp  \\\n",
       "0                            Braund, Mr. Owen Harris    male  22.0      1   \n",
       "1  Cumings, Mrs. John Bradley (Florence Briggs Th...  female  38.0      1   \n",
       "2                             Heikkinen, Miss. Laina  female  26.0      0   \n",
       "3       Futrelle, Mrs. Jacques Heath (Lily May Peel)  female  35.0      1   \n",
       "4                           Allen, Mr. William Henry    male  35.0      0   \n",
       "\n",
       "   Parch            Ticket     Fare Cabin Embarked  \n",
       "0      0         A/5 21171   7.2500   NaN        S  \n",
       "1      0          PC 17599  71.2833   C85        C  \n",
       "2      0  STON/O2. 3101282   7.9250   NaN        S  \n",
       "3      0            113803  53.1000  C123        S  \n",
       "4      0            373450   8.0500   NaN        S  "
      ]
     },
     "execution_count": 2,
     "metadata": {},
     "output_type": "execute_result"
    }
   ],
   "source": [
    "df = pd.read_csv(\"titanic.csv\")\n",
    "\n",
    "print(df.shape)\n",
    "\n",
    "df.head()"
   ]
  },
  {
   "cell_type": "markdown",
   "id": "0815275b",
   "metadata": {},
   "source": [
    "No conjunto de dados titanic temos 891 linhas (observações) e 12 colunas (características)"
   ]
  },
  {
   "cell_type": "markdown",
   "id": "c0c3f698",
   "metadata": {},
   "source": [
    "#### b) Calcular a probabilidade de sobreviver sendo homem e sendo mulher"
   ]
  },
  {
   "cell_type": "code",
   "execution_count": 4,
   "id": "6ecc9d4a",
   "metadata": {},
   "outputs": [
    {
     "name": "stdout",
     "output_type": "stream",
     "text": [
      "Probabilidade de sobreviver sendo homem: 19.0\n",
      "Probabilidade de sobreviver sendo mulher: 74.0\n"
     ]
    }
   ],
   "source": [
    "# Codigo explicado:\n",
    "# df[(df.Survived==1) & ( df.Sex=='male')].shape[0] => quantidade de homens que sobreviveram\n",
    "# df[df.Sex=='male'].shape[0] => quantidade total de homens\n",
    "# round(prob_h,2) => arredonda o numero assumindo 2 casas decimais \n",
    "# *100 => multiplica o valor decimal por 100 para obter em porcentagem\n",
    "\n",
    "prob_homem = df[(df.Survived==1) & ( df.Sex=='male')].shape[0] / df[df.Sex=='male'].shape[0]\n",
    "prob_mulher = df[(df.Survived==1) & ( df.Sex=='female')].shape[0] / df[df.Sex=='female'].shape[0]\n",
    "\n",
    "print(\"Probabilidade de sobreviver sendo homem:\", (round(prob_homem,2)*100)) \n",
    "print(\"Probabilidade de sobreviver sendo mulher:\", (round(prob_mulher,2)*100))"
   ]
  },
  {
   "cell_type": "markdown",
   "id": "25e91a6c",
   "metadata": {},
   "source": [
    "**Qual sua conclusão a partir dos dados acima?**\n",
    "\n",
    "A probabilidade de homens sobreviver ser menor, uns dos motivos acima se deve o número de homens ser maior que o das mulheres.\n",
    "\n",
    "<br>\n",
    "\n",
    "**Você vê algum indicativo de relação entre ter sobrevivido e o sexo?**\n",
    "\n",
    "Sim é possível observar uma relação entre ter sobrevivido e o sexo devido a proporção de sobreviventes ser diferente entre os sexos.\n",
    "\n",
    "<br>"
   ]
  },
  {
   "cell_type": "code",
   "execution_count": 5,
   "id": "c19f794e",
   "metadata": {},
   "outputs": [
    {
     "data": {
      "text/html": [
       "<div>\n",
       "<style scoped>\n",
       "    .dataframe tbody tr th:only-of-type {\n",
       "        vertical-align: middle;\n",
       "    }\n",
       "\n",
       "    .dataframe tbody tr th {\n",
       "        vertical-align: top;\n",
       "    }\n",
       "\n",
       "    .dataframe thead th {\n",
       "        text-align: right;\n",
       "    }\n",
       "</style>\n",
       "<table border=\"1\" class=\"dataframe\">\n",
       "  <thead>\n",
       "    <tr style=\"text-align: right;\">\n",
       "      <th></th>\n",
       "      <th>0</th>\n",
       "      <th>1</th>\n",
       "    </tr>\n",
       "    <tr>\n",
       "      <th>Sex</th>\n",
       "      <th></th>\n",
       "      <th></th>\n",
       "    </tr>\n",
       "  </thead>\n",
       "  <tbody>\n",
       "    <tr>\n",
       "      <th>female</th>\n",
       "      <td>81</td>\n",
       "      <td>233</td>\n",
       "    </tr>\n",
       "    <tr>\n",
       "      <th>male</th>\n",
       "      <td>468</td>\n",
       "      <td>109</td>\n",
       "    </tr>\n",
       "  </tbody>\n",
       "</table>\n",
       "</div>"
      ],
      "text/plain": [
       "          0    1\n",
       "Sex             \n",
       "female   81  233\n",
       "male    468  109"
      ]
     },
     "execution_count": 5,
     "metadata": {},
     "output_type": "execute_result"
    }
   ],
   "source": [
    "# Usando o código abaixo você consegue obter a quantidade de mulheres e homens que sobreviveram (1) e morreram (0)\n",
    "# Gera tabela de frequencia absoluta!\n",
    "\n",
    "df.groupby(['Sex']).apply(lambda x: x.Survived.value_counts()).unstack()"
   ]
  },
  {
   "cell_type": "code",
   "execution_count": 6,
   "id": "51aafd6c",
   "metadata": {},
   "outputs": [
    {
     "data": {
      "text/html": [
       "<div>\n",
       "<style scoped>\n",
       "    .dataframe tbody tr th:only-of-type {\n",
       "        vertical-align: middle;\n",
       "    }\n",
       "\n",
       "    .dataframe tbody tr th {\n",
       "        vertical-align: top;\n",
       "    }\n",
       "\n",
       "    .dataframe thead th {\n",
       "        text-align: right;\n",
       "    }\n",
       "</style>\n",
       "<table border=\"1\" class=\"dataframe\">\n",
       "  <thead>\n",
       "    <tr style=\"text-align: right;\">\n",
       "      <th></th>\n",
       "      <th>0</th>\n",
       "      <th>1</th>\n",
       "    </tr>\n",
       "    <tr>\n",
       "      <th>Sex</th>\n",
       "      <th></th>\n",
       "      <th></th>\n",
       "    </tr>\n",
       "  </thead>\n",
       "  <tbody>\n",
       "    <tr>\n",
       "      <th>female</th>\n",
       "      <td>0.257962</td>\n",
       "      <td>0.742038</td>\n",
       "    </tr>\n",
       "    <tr>\n",
       "      <th>male</th>\n",
       "      <td>0.811092</td>\n",
       "      <td>0.188908</td>\n",
       "    </tr>\n",
       "  </tbody>\n",
       "</table>\n",
       "</div>"
      ],
      "text/plain": [
       "               0         1\n",
       "Sex                       \n",
       "female  0.257962  0.742038\n",
       "male    0.811092  0.188908"
      ]
     },
     "execution_count": 6,
     "metadata": {},
     "output_type": "execute_result"
    }
   ],
   "source": [
    "# Com uma simples modificação no código acima você passa a ter os valores em percentual\n",
    "# Gera tabela de frequencia relativa!\n",
    "\n",
    "df.groupby('Sex').apply(lambda x: x.Survived.value_counts()/x.shape[0]).unstack()"
   ]
  },
  {
   "cell_type": "markdown",
   "id": "b5f09d9a",
   "metadata": {},
   "source": [
    "#### c) Construção de gráfico\n",
    "\n",
    "Estude o código abaixo!\n",
    "\n",
    "Todo o código foi demonstrado durante a aula!"
   ]
  },
  {
   "cell_type": "code",
   "execution_count": 7,
   "id": "592a57cf",
   "metadata": {},
   "outputs": [
    {
     "data": {
      "image/png": "[encoded data removed]",
      "text/plain": [
       "<Figure size 432x288 with 1 Axes>"
      ]
     },
     "metadata": {
      "needs_background": "light"
     },
     "output_type": "display_data"
    },
    {
     "data": {
      "image/png": "[encoded data removed]",
      "text/plain": [
       "<Figure size 432x288 with 1 Axes>"
      ]
     },
     "metadata": {
      "needs_background": "light"
     },
     "output_type": "display_data"
    }
   ],
   "source": [
    "# Codigo apresentado em aula!\n",
    "\n",
    "df_sex = df.groupby('Sex').apply(lambda x: x.Survived.value_counts()).unstack()\n",
    "\n",
    "df_sex_prob = df.groupby('Sex').apply(lambda x: x.Survived.value_counts()/x.shape[0]).unstack()\n",
    "\n",
    "labels = list(df_sex.index) #labels do gráfico de barras\n",
    "\n",
    "morreram = df_sex[0].values #valores para construção do grafico de barras\n",
    "sobreviveram = df_sex[1].values #valores para construção do grafico de barras\n",
    "\n",
    "morreram_prob = df_sex_prob[0].values #valores para construção do grafico de barras\n",
    "sobreviveram_prob= df_sex_prob[1].values #valores para construção do grafico de barras\n",
    "\n",
    "\n",
    "x = np.arange(len(labels))  #localização dos labels\n",
    "width = 0.35  # largura das barras\n",
    "\n",
    "fig, ax = plt.subplots() #construção do frame, criando figura e eixos\n",
    "\n",
    "rects1 = ax.bar(x - width/2, morreram, width, label='Morreram') #valores para construção do gráfico de barras\n",
    "rects2 = ax.bar(x + width/2, sobreviveram, width, label='Sobreviveram')\n",
    "\n",
    "# Adicona título no gráfico, legenda nos eixos e no gráfico legenda\n",
    "ax.set_ylabel('Frequência') #legenda eixo y\n",
    "ax.set_title('Distribuição da Survived por Sex') #titulo\n",
    "ax.set_xticks(x) #seta a posição dos labels\n",
    "ax.set_xticklabels(labels) # legenda dos labels do eixo x\n",
    "ax.legend() #legenda do gráfico\n",
    "plt.show()\n",
    "\n",
    "fig, ax1 = plt.subplots()\n",
    "rects3 = ax1.bar(x - width/2, morreram_prob, width, label='Morreram')\n",
    "rects4 = ax1.bar(x + width/2, sobreviveram_prob, width, label='Sobreviveram')\n",
    "\n",
    "ax1.set_ylabel('%')\n",
    "ax1.set_title('Distribuição da Survived por Sex')\n",
    "ax1.set_xticks(x)\n",
    "ax1.set_xticklabels(labels)\n",
    "ax1.legend()\n",
    "plt.show()"
   ]
  },
  {
   "cell_type": "code",
   "execution_count": 8,
   "id": "689d1d7d",
   "metadata": {},
   "outputs": [
    {
     "data": {
      "text/plain": [
       "<AxesSubplot:xlabel='Sex', ylabel='Probability'>"
      ]
     },
     "execution_count": 8,
     "metadata": {},
     "output_type": "execute_result"
    },
    {
     "data": {
      "image/png": "[encoded data removed]",
      "text/plain": [
       "<Figure size 864x360 with 2 Axes>"
      ]
     },
     "metadata": {
      "needs_background": "light"
     },
     "output_type": "display_data"
    }
   ],
   "source": [
    "# Maneira alternativa usando a biblioteca seaborn - NOVO!\n",
    "\n",
    "import seaborn as sns\n",
    "\n",
    "#seaborn é uma biblioteca muito útil para o dia a dia do cientista de dados.\n",
    "# ele possui diferentes tipos de gráficos para visualização estatística.\n",
    "\n",
    "# ref.: https://seaborn.pydata.org/\n",
    "\n",
    "fig, axs = plt.subplots(1,2, figsize=[12,5])\n",
    "\n",
    "sns.histplot(df, x='Sex', hue='Survived', stat='count', multiple='dodge', shrink=0.8, ax=axs[0])\n",
    "\n",
    "#stat='count' : conta a quantidade de cada sexo de acordo com a sobrevivencia\n",
    "\n",
    "sns.histplot(df, x='Sex', hue='Survived', stat='probability', multiple='dodge', shrink=0.8, ax=axs[1])\n",
    "\n",
    "#stat='probability' : calcula a probabilidade de cada sexo de acordo com a sobrevivencia"
   ]
  },
  {
   "cell_type": "markdown",
   "id": "c56646d9",
   "metadata": {},
   "source": [
    "**Qual conclusão você reforça com esses gráficos?**"
   ]
  },
  {
   "cell_type": "markdown",
   "id": "e13195f2",
   "metadata": {},
   "source": [
    "#### d) Calcular o chi-quadrado\n",
    "\n",
    "1) obter a distribuicao geral da variavel Survived;\n",
    "\n",
    "2) obter a tabela de frequencia para os dados observados:\n",
    "\n",
    "    - tabela de frequencia absoluta;\n",
    "    - tabela de frequencia relativa.\n",
    "\n",
    "3) adicionar o total na tabela de frequencia absoluta;\n",
    "\n",
    "4) obter a tabela de frequência esperada:\n",
    "\n",
    "    - caso as duas variáveis não tivesse relação.\n",
    "    \n",
    "5) cálculo do chi-quadrado:\n",
    "\n",
    "Observado menos o esperado - desvio: $o_i - e_i$\n",
    "    \n",
    "Desvio ao quadrado: $\\sigma^2 = (o_i - e_i)^2$\n",
    "\n",
    "Chi-quadrado: $X^2 = (o_i - e_i)^2 / e_i$\n",
    "   "
   ]
  },
  {
   "cell_type": "code",
   "execution_count": 15,
   "id": "550d27bd",
   "metadata": {},
   "outputs": [
    {
     "data": {
      "text/html": [
       "<div>\n",
       "<style scoped>\n",
       "    .dataframe tbody tr th:only-of-type {\n",
       "        vertical-align: middle;\n",
       "    }\n",
       "\n",
       "    .dataframe tbody tr th {\n",
       "        vertical-align: top;\n",
       "    }\n",
       "\n",
       "    .dataframe thead th {\n",
       "        text-align: right;\n",
       "    }\n",
       "</style>\n",
       "<table border=\"1\" class=\"dataframe\">\n",
       "  <thead>\n",
       "    <tr style=\"text-align: right;\">\n",
       "      <th></th>\n",
       "      <th>Survived</th>\n",
       "    </tr>\n",
       "  </thead>\n",
       "  <tbody>\n",
       "    <tr>\n",
       "      <th>0</th>\n",
       "      <td>0.62</td>\n",
       "    </tr>\n",
       "    <tr>\n",
       "      <th>1</th>\n",
       "      <td>0.38</td>\n",
       "    </tr>\n",
       "  </tbody>\n",
       "</table>\n",
       "</div>"
      ],
      "text/plain": [
       "   Survived\n",
       "0      0.62\n",
       "1      0.38"
      ]
     },
     "execution_count": 15,
     "metadata": {},
     "output_type": "execute_result"
    }
   ],
   "source": [
    "# 1) Distribuição geral da variável survived como já observado antes:\n",
    "\n",
    "dist_geral = pd.DataFrame(round(df.Survived.value_counts()/df.shape[0],2))\n",
    "\n",
    "dist_geral"
   ]
  },
  {
   "cell_type": "code",
   "execution_count": 49,
   "id": "4d45edde",
   "metadata": {},
   "outputs": [
    {
     "data": {
      "text/html": [
       "<div>\n",
       "<style scoped>\n",
       "    .dataframe tbody tr th:only-of-type {\n",
       "        vertical-align: middle;\n",
       "    }\n",
       "\n",
       "    .dataframe tbody tr th {\n",
       "        vertical-align: top;\n",
       "    }\n",
       "\n",
       "    .dataframe thead th {\n",
       "        text-align: right;\n",
       "    }\n",
       "</style>\n",
       "<table border=\"1\" class=\"dataframe\">\n",
       "  <thead>\n",
       "    <tr style=\"text-align: right;\">\n",
       "      <th></th>\n",
       "      <th>0</th>\n",
       "      <th>1</th>\n",
       "    </tr>\n",
       "    <tr>\n",
       "      <th>Sex</th>\n",
       "      <th></th>\n",
       "      <th></th>\n",
       "    </tr>\n",
       "  </thead>\n",
       "  <tbody>\n",
       "    <tr>\n",
       "      <th>female</th>\n",
       "      <td>0.257962</td>\n",
       "      <td>0.742038</td>\n",
       "    </tr>\n",
       "    <tr>\n",
       "      <th>male</th>\n",
       "      <td>0.811092</td>\n",
       "      <td>0.188908</td>\n",
       "    </tr>\n",
       "  </tbody>\n",
       "</table>\n",
       "</div>"
      ],
      "text/plain": [
       "               0         1\n",
       "Sex                       \n",
       "female  0.257962  0.742038\n",
       "male    0.811092  0.188908"
      ]
     },
     "execution_count": 49,
     "metadata": {},
     "output_type": "execute_result"
    }
   ],
   "source": [
    "# 2) Tabelas de frequencia absoluta e relativa:\n",
    "\n",
    "df_sex = df.groupby('Sex').apply(lambda x: x.Survived.value_counts()).unstack()\n",
    "\n",
    "df_sex_prob = df.groupby('Sex').apply(lambda x: x.Survived.value_counts()/x.shape[0]).unstack()\n",
    "\n",
    "df_sex_prob"
   ]
  },
  {
   "cell_type": "code",
   "execution_count": 51,
   "id": "b664a7b2",
   "metadata": {},
   "outputs": [
    {
     "data": {
      "text/html": [
       "<div>\n",
       "<style scoped>\n",
       "    .dataframe tbody tr th:only-of-type {\n",
       "        vertical-align: middle;\n",
       "    }\n",
       "\n",
       "    .dataframe tbody tr th {\n",
       "        vertical-align: top;\n",
       "    }\n",
       "\n",
       "    .dataframe thead th {\n",
       "        text-align: right;\n",
       "    }\n",
       "</style>\n",
       "<table border=\"1\" class=\"dataframe\">\n",
       "  <thead>\n",
       "    <tr style=\"text-align: right;\">\n",
       "      <th></th>\n",
       "      <th>0</th>\n",
       "      <th>1</th>\n",
       "      <th>total</th>\n",
       "    </tr>\n",
       "    <tr>\n",
       "      <th>Sex</th>\n",
       "      <th></th>\n",
       "      <th></th>\n",
       "      <th></th>\n",
       "    </tr>\n",
       "  </thead>\n",
       "  <tbody>\n",
       "    <tr>\n",
       "      <th>female</th>\n",
       "      <td>81</td>\n",
       "      <td>233</td>\n",
       "      <td>314</td>\n",
       "    </tr>\n",
       "    <tr>\n",
       "      <th>male</th>\n",
       "      <td>468</td>\n",
       "      <td>109</td>\n",
       "      <td>577</td>\n",
       "    </tr>\n",
       "  </tbody>\n",
       "</table>\n",
       "</div>"
      ],
      "text/plain": [
       "          0    1  total\n",
       "Sex                    \n",
       "female   81  233    314\n",
       "male    468  109    577"
      ]
     },
     "execution_count": 51,
     "metadata": {},
     "output_type": "execute_result"
    }
   ],
   "source": [
    "# 3) Adicionar o total para cada sexo na tabela de frequência absoluta:\n",
    "\n",
    "df_sex['total'] = df_sex[[0]].values + df_sex[[1]].values \n",
    "\n",
    "df_sex"
   ]
  },
  {
   "cell_type": "code",
   "execution_count": 52,
   "id": "fc8ec0c7",
   "metadata": {},
   "outputs": [
    {
     "data": {
      "text/html": [
       "<div>\n",
       "<style scoped>\n",
       "    .dataframe tbody tr th:only-of-type {\n",
       "        vertical-align: middle;\n",
       "    }\n",
       "\n",
       "    .dataframe tbody tr th {\n",
       "        vertical-align: top;\n",
       "    }\n",
       "\n",
       "    .dataframe thead th {\n",
       "        text-align: right;\n",
       "    }\n",
       "</style>\n",
       "<table border=\"1\" class=\"dataframe\">\n",
       "  <thead>\n",
       "    <tr style=\"text-align: right;\">\n",
       "      <th></th>\n",
       "      <th>0</th>\n",
       "      <th>1</th>\n",
       "    </tr>\n",
       "  </thead>\n",
       "  <tbody>\n",
       "    <tr>\n",
       "      <th>0</th>\n",
       "      <td>194.68</td>\n",
       "      <td>119.32</td>\n",
       "    </tr>\n",
       "    <tr>\n",
       "      <th>1</th>\n",
       "      <td>357.74</td>\n",
       "      <td>219.26</td>\n",
       "    </tr>\n",
       "  </tbody>\n",
       "</table>\n",
       "</div>"
      ],
      "text/plain": [
       "        0       1\n",
       "0  194.68  119.32\n",
       "1  357.74  219.26"
      ]
     },
     "execution_count": 52,
     "metadata": {},
     "output_type": "execute_result"
    }
   ],
   "source": [
    "# 4) Tabela de frequência esperada:\n",
    "\n",
    "esp_0 = df_sex.total.values * dist_geral.iloc[0].values\n",
    "esp_1 = df_sex.total.values * dist_geral.iloc[1].values\n",
    "\n",
    "df_esp = pd.DataFrame(np.c_[esp_0,esp_1])\n",
    "\n",
    "df_esp"
   ]
  },
  {
   "cell_type": "code",
   "execution_count": 101,
   "id": "e9127ebd",
   "metadata": {},
   "outputs": [
    {
     "name": "stdout",
     "output_type": "stream",
     "text": [
      "[[-113.68  113.68]\n",
      " [ 110.26 -110.26]]\n",
      "\n",
      "O chi-quadrado de Pearson é de: 264.11838848422303\n"
     ]
    }
   ],
   "source": [
    "# 5) Cálculo do chi-quadrado\n",
    "\n",
    "# calculo dos desvios:\n",
    "\n",
    "desvios = np.array([df_sex.iloc[0,:2].values-df_esp.iloc[0].values,df_sex.iloc[1,:2].values-df_esp.iloc[1].values])\n",
    "\n",
    "print(desvios)\n",
    "\n",
    "# calculo dos desvios ao quadrado:\n",
    "\n",
    "desvios_ao_quadrado = desvios*desvios\n",
    "\n",
    "# calculo do chi-quadrado:\n",
    "\n",
    "chi_quad = np.sum((desvios*desvios)/np.array(df_esp))\n",
    "\n",
    "print(\"\\nO chi-quadrado de Pearson é de:\", chi_quad)"
   ]
  },
  {
   "cell_type": "markdown",
   "id": "a1b44d46",
   "metadata": {},
   "source": [
    "**O que significa o valor do chi-quadrado de Pearson?**\n",
    "\n",
    "**Quais foram as suas conclusões?**"
   ]
  },
  {
   "cell_type": "markdown",
   "id": "7082eff9",
   "metadata": {},
   "source": [
    "### Ex3: Use o dataframe df, carregado abaixo, onde cada observação corresponde a uma reclamação feita pelo consumidor, para responder as perguntas abaixo:\n",
    "\n",
    "\n",
    "1 - Qual o número de reclamações por Estado?\n",
    "\n",
    "    - Calcular a quantidade de reclamações de acordo com os estados.\n",
    "\n",
    "2 - Qual a quantidade de reclamações por sexo?\n",
    "\n",
    "    - Calcular a quantidade de reclamações de acordo com o sexo do consumidor.\n",
    "\n",
    "3 - O tempo de resposta tem alguma correlação com a nota do consumidor?\n",
    "\n",
    "    - Verificar a correlação entre o tempo de resposta e a nota atribuída pelo consumidor.\n",
    "    - Importante verificar qual o tipo das duas variáveis para determinar o método estatístico.\n",
    "    - Lembre-se que aqui você estará testando a seguinte hipótese: \n",
    "    \n",
    "        - h0 = o tempo de resposta tem relação direta com a nota do consumidor. (Hipótese nula)\n",
    "        - h1 = o tempo de resposta não tem relação direta com a nota do consumidor. (Hipótese alternativa)\n",
    "\n",
    "4 - Proporção de reclamações registradas e não respondidas.\n",
    "\n",
    "    - Calcular a proporção (porcentagem) do total de reclamações registradas que não foram respondidas.\n",
    "\n",
    "5 - Imagine que você é alguém responsável por monitorar a satisfação dos consumidores. Que outros tipos de pergunta e análises você entende que poderiam ser feitas? Acrescente mais duas perguntas feitas por você, bem como suas análises para responde-las. \n",
    "\n",
    "    - Proponha outras hipóteses e verifique-as (no mínimo duas).\n",
    "\n",
    "\n",
    "**Importante**: É interessante que as análises contenham gráficos! No dia-a-dia de um cientista, grande parte do  trabalho é analisar dados e gerar visualizações para apresentá-las.\n",
    "\n",
    "\n",
    "_fonte_ : https://dados.gov.br/dataset/reclamacoes-do-consumidor-gov-br1 (Nesse link estão os dicionário de dados, caso possua dúvidas sobre base)."
   ]
  },
  {
   "cell_type": "code",
   "execution_count": 102,
   "id": "0899a06b",
   "metadata": {},
   "outputs": [
    {
     "data": {
      "text/html": [
       "<div>\n",
       "<style scoped>\n",
       "    .dataframe tbody tr th:only-of-type {\n",
       "        vertical-align: middle;\n",
       "    }\n",
       "\n",
       "    .dataframe tbody tr th {\n",
       "        vertical-align: top;\n",
       "    }\n",
       "\n",
       "    .dataframe thead th {\n",
       "        text-align: right;\n",
       "    }\n",
       "</style>\n",
       "<table border=\"1\" class=\"dataframe\">\n",
       "  <thead>\n",
       "    <tr style=\"text-align: right;\">\n",
       "      <th></th>\n",
       "      <th>Gestor</th>\n",
       "      <th>Canal de Origem</th>\n",
       "      <th>Região</th>\n",
       "      <th>UF</th>\n",
       "      <th>Cidade</th>\n",
       "      <th>Sexo</th>\n",
       "      <th>Faixa Etária</th>\n",
       "      <th>Ano Abertura</th>\n",
       "      <th>Mês Abertura</th>\n",
       "      <th>Data Abertura</th>\n",
       "      <th>...</th>\n",
       "      <th>Como Comprou Contratou</th>\n",
       "      <th>Procurou Empresa</th>\n",
       "      <th>Respondida</th>\n",
       "      <th>Situação</th>\n",
       "      <th>Avaliação Reclamação</th>\n",
       "      <th>Nota do Consumidor</th>\n",
       "      <th>Análise da Recusa</th>\n",
       "      <th>Edição de Conteúdo</th>\n",
       "      <th>Interação do Gestor</th>\n",
       "      <th>Total</th>\n",
       "    </tr>\n",
       "  </thead>\n",
       "  <tbody>\n",
       "    <tr>\n",
       "      <th>0</th>\n",
       "      <td>Secretaria Nacional do Consumidor</td>\n",
       "      <td>Não identificado</td>\n",
       "      <td>SE</td>\n",
       "      <td>RJ</td>\n",
       "      <td>Itaboraí</td>\n",
       "      <td>M</td>\n",
       "      <td>entre 31 a 40 anos</td>\n",
       "      <td>2014</td>\n",
       "      <td>6</td>\n",
       "      <td>27/06/2014</td>\n",
       "      <td>...</td>\n",
       "      <td>Não comprei / contratei</td>\n",
       "      <td>S</td>\n",
       "      <td>S</td>\n",
       "      <td>Finalizada não avaliada</td>\n",
       "      <td>Não Avaliada</td>\n",
       "      <td>NaN</td>\n",
       "      <td>NaN</td>\n",
       "      <td>N</td>\n",
       "      <td>N</td>\n",
       "      <td>1</td>\n",
       "    </tr>\n",
       "    <tr>\n",
       "      <th>1</th>\n",
       "      <td>Instituto Estadual de Proteção e Defesa do Con...</td>\n",
       "      <td>Não identificado</td>\n",
       "      <td>SE</td>\n",
       "      <td>ES</td>\n",
       "      <td>Serra</td>\n",
       "      <td>F</td>\n",
       "      <td>entre 31 a 40 anos</td>\n",
       "      <td>2014</td>\n",
       "      <td>6</td>\n",
       "      <td>11/06/2014</td>\n",
       "      <td>...</td>\n",
       "      <td>Internet</td>\n",
       "      <td>S</td>\n",
       "      <td>S</td>\n",
       "      <td>Finalizada avaliada</td>\n",
       "      <td>Não Resolvida</td>\n",
       "      <td>1.0</td>\n",
       "      <td>NaN</td>\n",
       "      <td>N</td>\n",
       "      <td>N</td>\n",
       "      <td>1</td>\n",
       "    </tr>\n",
       "    <tr>\n",
       "      <th>2</th>\n",
       "      <td>Secretaria Nacional do Consumidor</td>\n",
       "      <td>Não identificado</td>\n",
       "      <td>SE</td>\n",
       "      <td>RJ</td>\n",
       "      <td>Volta Redonda</td>\n",
       "      <td>M</td>\n",
       "      <td>entre 31 a 40 anos</td>\n",
       "      <td>2014</td>\n",
       "      <td>6</td>\n",
       "      <td>27/06/2014</td>\n",
       "      <td>...</td>\n",
       "      <td>Internet</td>\n",
       "      <td>S</td>\n",
       "      <td>S</td>\n",
       "      <td>Finalizada avaliada</td>\n",
       "      <td>Resolvida</td>\n",
       "      <td>5.0</td>\n",
       "      <td>NaN</td>\n",
       "      <td>N</td>\n",
       "      <td>N</td>\n",
       "      <td>1</td>\n",
       "    </tr>\n",
       "    <tr>\n",
       "      <th>3</th>\n",
       "      <td>Instituto de Promoção e Defesa do Cidadão e Co...</td>\n",
       "      <td>Não identificado</td>\n",
       "      <td>NE</td>\n",
       "      <td>MA</td>\n",
       "      <td>São Luís</td>\n",
       "      <td>F</td>\n",
       "      <td>entre 31 a 40 anos</td>\n",
       "      <td>2014</td>\n",
       "      <td>5</td>\n",
       "      <td>29/05/2014</td>\n",
       "      <td>...</td>\n",
       "      <td>Não comprei / contratei</td>\n",
       "      <td>S</td>\n",
       "      <td>S</td>\n",
       "      <td>Finalizada avaliada</td>\n",
       "      <td>Resolvida</td>\n",
       "      <td>5.0</td>\n",
       "      <td>NaN</td>\n",
       "      <td>N</td>\n",
       "      <td>N</td>\n",
       "      <td>1</td>\n",
       "    </tr>\n",
       "    <tr>\n",
       "      <th>4</th>\n",
       "      <td>Secretaria de Desenvolvimento Social e Direito...</td>\n",
       "      <td>Não identificado</td>\n",
       "      <td>NE</td>\n",
       "      <td>PE</td>\n",
       "      <td>Recife</td>\n",
       "      <td>M</td>\n",
       "      <td>entre 21 a 30 anos</td>\n",
       "      <td>2014</td>\n",
       "      <td>6</td>\n",
       "      <td>30/06/2014</td>\n",
       "      <td>...</td>\n",
       "      <td>Internet</td>\n",
       "      <td>S</td>\n",
       "      <td>S</td>\n",
       "      <td>Finalizada não avaliada</td>\n",
       "      <td>Não Avaliada</td>\n",
       "      <td>NaN</td>\n",
       "      <td>NaN</td>\n",
       "      <td>N</td>\n",
       "      <td>N</td>\n",
       "      <td>1</td>\n",
       "    </tr>\n",
       "  </tbody>\n",
       "</table>\n",
       "<p>5 rows × 38 columns</p>\n",
       "</div>"
      ],
      "text/plain": [
       "                                              Gestor   Canal de Origem Região  \\\n",
       "0                  Secretaria Nacional do Consumidor  Não identificado     SE   \n",
       "1  Instituto Estadual de Proteção e Defesa do Con...  Não identificado     SE   \n",
       "2                  Secretaria Nacional do Consumidor  Não identificado     SE   \n",
       "3  Instituto de Promoção e Defesa do Cidadão e Co...  Não identificado     NE   \n",
       "4  Secretaria de Desenvolvimento Social e Direito...  Não identificado     NE   \n",
       "\n",
       "   UF         Cidade Sexo        Faixa Etária  Ano Abertura  Mês Abertura  \\\n",
       "0  RJ       Itaboraí    M  entre 31 a 40 anos          2014             6   \n",
       "1  ES          Serra    F  entre 31 a 40 anos          2014             6   \n",
       "2  RJ  Volta Redonda    M  entre 31 a 40 anos          2014             6   \n",
       "3  MA       São Luís    F  entre 31 a 40 anos          2014             5   \n",
       "4  PE         Recife    M  entre 21 a 30 anos          2014             6   \n",
       "\n",
       "  Data Abertura  ...   Como Comprou Contratou Procurou Empresa Respondida  \\\n",
       "0    27/06/2014  ...  Não comprei / contratei                S          S   \n",
       "1    11/06/2014  ...                 Internet                S          S   \n",
       "2    27/06/2014  ...                 Internet                S          S   \n",
       "3    29/05/2014  ...  Não comprei / contratei                S          S   \n",
       "4    30/06/2014  ...                 Internet                S          S   \n",
       "\n",
       "                  Situação Avaliação Reclamação Nota do Consumidor  \\\n",
       "0  Finalizada não avaliada         Não Avaliada                NaN   \n",
       "1      Finalizada avaliada        Não Resolvida                1.0   \n",
       "2      Finalizada avaliada            Resolvida                5.0   \n",
       "3      Finalizada avaliada            Resolvida                5.0   \n",
       "4  Finalizada não avaliada         Não Avaliada                NaN   \n",
       "\n",
       "  Análise da Recusa Edição de Conteúdo Interação do Gestor Total  \n",
       "0               NaN                  N                   N     1  \n",
       "1               NaN                  N                   N     1  \n",
       "2               NaN                  N                   N     1  \n",
       "3               NaN                  N                   N     1  \n",
       "4               NaN                  N                   N     1  \n",
       "\n",
       "[5 rows x 38 columns]"
      ]
     },
     "execution_count": 102,
     "metadata": {},
     "output_type": "execute_result"
    }
   ],
   "source": [
    "import pandas as pd\n",
    "\n",
    "df = pd.read_csv(\"dadosgovbr---2014.csv\",sep = ';', encoding=\"latin-1\")\n",
    "\n",
    "df.head()"
   ]
  },
  {
   "cell_type": "code",
   "execution_count": 109,
   "id": "212c9b5e",
   "metadata": {},
   "outputs": [
    {
     "data": {
      "text/plain": [
       "SP    11882\n",
       "PR     6140\n",
       "RJ     4907\n",
       "MG     4186\n",
       "BA     2443\n",
       "RS     1941\n",
       "DF     1805\n",
       "PE     1626\n",
       "SC     1458\n",
       "MA     1082\n",
       "ES     1081\n",
       "CE     1068\n",
       "MT     1012\n",
       "GO      886\n",
       "MS      531\n",
       "AC      449\n",
       "PB      343\n",
       "AM      291\n",
       "PA      211\n",
       "RN      160\n",
       "RO      119\n",
       "AL      104\n",
       "SE       97\n",
       "PI       77\n",
       "TO       46\n",
       "RR       24\n",
       "AP       18\n",
       "Name: UF, dtype: int64"
      ]
     },
     "execution_count": 109,
     "metadata": {},
     "output_type": "execute_result"
    }
   ],
   "source": [
    "# Ex.3\n",
    "# 1) Quantidade de reclamações por Estado\n",
    "df['UF'].value_counts()"
   ]
  },
  {
   "cell_type": "code",
   "execution_count": 110,
   "id": "6ae90764",
   "metadata": {},
   "outputs": [
    {
     "data": {
      "text/plain": [
       "M    27895\n",
       "F    16092\n",
       "Name: Sexo, dtype: int64"
      ]
     },
     "execution_count": 110,
     "metadata": {},
     "output_type": "execute_result"
    }
   ],
   "source": [
    "# Ex.3\n",
    "# 2) Quantidade de reclamações por Sexo\n",
    "df['Sexo'].value_counts()"
   ]
  },
  {
   "cell_type": "code",
   "execution_count": 132,
   "id": "91420d3b",
   "metadata": {},
   "outputs": [
    {
     "data": {
      "text/plain": [
       "<AxesSubplot:xlabel='Tempo Resposta', ylabel='Probability'>"
      ]
     },
     "execution_count": 132,
     "metadata": {},
     "output_type": "execute_result"
    },
    {
     "data": {
      "image/png": "[encoded data removed]",
      "text/plain": [
       "<Figure size 1152x360 with 2 Axes>"
      ]
     },
     "metadata": {
      "needs_background": "light"
     },
     "output_type": "display_data"
    }
   ],
   "source": [
    "# Ex3\n",
    "# 3) O tempo de resposta tem correlação com a nota do consumidor, \n",
    "#    devido a quantidade de notas do consumidor baixas atribuidas \n",
    "#    ser maior quando o tempo de resposta é maior.\n",
    "import seaborn as sns\n",
    "\n",
    "fig, axs = plt.subplots(1,2, figsize=[16,5])\n",
    "\n",
    "sns.histplot(df, x='Tempo Resposta', hue='Nota do Consumidor', stat='count', multiple='dodge', shrink=0.8, ax=axs[0])\n",
    "\n",
    "sns.histplot(df, x='Tempo Resposta', hue='Nota do Consumidor', stat='probability', multiple='dodge', shrink=0.8, ax=axs[1])"
   ]
  },
  {
   "cell_type": "code",
   "execution_count": 138,
   "id": "b2c2b80d",
   "metadata": {},
   "outputs": [
    {
     "name": "stdout",
     "output_type": "stream",
     "text": [
      "\n",
      "A proporção de reclamações não atendidas é: 5.0 %\n"
     ]
    }
   ],
   "source": [
    "# Ex3\n",
    "# 4) Proporção de reclamações registradas e não respondidas.\n",
    "n_resp = round(df[(df.Respondida=='N')].shape[0] / df.shape[0],2)*100\n",
    "print(\"\\nA proporção de reclamações não atendidas é:\", n_resp, \"%\")"
   ]
  },
  {
   "cell_type": "code",
   "execution_count": 134,
   "id": "2a9523e7",
   "metadata": {
    "scrolled": false
   },
   "outputs": [
    {
     "name": "stderr",
     "output_type": "stream",
     "text": [
      "C:\\Users\\leonardo.maruyama\\anaconda3\\lib\\site-packages\\seaborn\\_statistics.py:356: RuntimeWarning: invalid value encountered in true_divide\n",
      "  hist = hist.astype(float) / hist.sum()\n"
     ]
    },
    {
     "data": {
      "text/plain": [
       "<AxesSubplot:xlabel='Nota do Consumidor', ylabel='Probability'>"
      ]
     },
     "execution_count": 134,
     "metadata": {},
     "output_type": "execute_result"
    },
    {
     "data": {
      "image/png": "[encoded data removed]",
      "text/plain": [
       "<Figure size 1152x360 with 2 Axes>"
      ]
     },
     "metadata": {
      "needs_background": "light"
     },
     "output_type": "display_data"
    }
   ],
   "source": [
    "# Ex3\n",
    "# 5) Pelo gráfico observa-se indica uma maior pontuação para reclamações atendidas \n",
    "#    e menor pontuação para reclamações não atendidas.\n",
    "fig, axs = plt.subplots(1,2, figsize=[16,5])\n",
    "\n",
    "sns.histplot(df, x='Nota do Consumidor', hue='Avaliação Reclamação', stat='count', multiple='dodge', shrink=0.8, ax=axs[0])\n",
    "\n",
    "sns.histplot(df, x='Nota do Consumidor', hue='Avaliação Reclamação', stat='probability', multiple='dodge', shrink=0.8, ax=axs[1])"
   ]
  },
  {
   "cell_type": "code",
   "execution_count": 135,
   "id": "2dbc0289",
   "metadata": {},
   "outputs": [
    {
     "data": {
      "text/plain": [
       "Operadoras de Telecomunicações (Telefonia, Internet, TV por assinatura)    23962\n",
       "Bancos, Financeiras e Administradoras de Cartão                             8809\n",
       "Comércio Eletrônico                                                         6074\n",
       "Fabricantes - Eletroeletrônicos,  Produtos de Telefonia e Informática       1725\n",
       "Varejo                                                                      1008\n",
       "Transporte Aéreo                                                             430\n",
       "Corretoras e Sociedades de Seguros, Capitalização e Previdência              378\n",
       "Fabricantes - Linha Branca                                                   367\n",
       "Agências de Viagens                                                          324\n",
       "Operadoras de Planos de Saúde e Administradoras de Benefícios                250\n",
       "Supermercados                                                                205\n",
       "Administradoras de Consórcios                                                139\n",
       "Energia Elétrica, Gás, Água e Esgoto                                          73\n",
       "Programas de Fidelidade                                                       55\n",
       "Empresas de Recuperação de Crédito                                            44\n",
       "Perfumaria, Cosméticos e Higiene Pessoal                                      36\n",
       "Fabricantes - Eletroportáteis e Artigos de Uso Doméstico e Pessoal            30\n",
       "Empresas de Pagamento Eletrônico                                              25\n",
       "Bancos de Dados e Cadastros de Consumidores                                   18\n",
       "Farmácias                                                                     11\n",
       "Móveis e Artigos de Decoração                                                  7\n",
       "Artigos Esportivos                                                             6\n",
       "Provedores de Conteúdo e Outros Serviços na Internet                           6\n",
       "Editoras                                                                       2\n",
       "Estabelecimentos de Ensino                                                     1\n",
       "Transporte Terrestre                                                           1\n",
       "Vestuário, Calçados e Têxteis                                                  1\n",
       "Name: Segmento de Mercado, dtype: int64"
      ]
     },
     "execution_count": 135,
     "metadata": {},
     "output_type": "execute_result"
    }
   ],
   "source": [
    "# Ex3\n",
    "# 5) Pelo quantidade de reclamações distribuidas pelo Segmento de Mercado\n",
    "#    observa-se que a maior quantidade de reclamações está concentrado no \n",
    "#    setor de telecomunicações, financeiras, e comércio eletrônica.\n",
    "df['Segmento de Mercado'].value_counts()"
   ]
  },
  {
   "cell_type": "code",
   "execution_count": null,
   "id": "e4cd8c15",
   "metadata": {},
   "outputs": [],
   "source": []
  }
 ],
 "metadata": {
  "kernelspec": {
   "display_name": "Python 3",
   "language": "python",
   "name": "python3"
  },
  "language_info": {
   "codemirror_mode": {
    "name": "ipython",
    "version": 3
   },
   "file_extension": ".py",
   "mimetype": "text/x-python",
   "name": "python",
   "nbconvert_exporter": "python",
   "pygments_lexer": "ipython3",
   "version": "3.8.8"
  }
 },
 "nbformat": 4,
 "nbformat_minor": 5
}
