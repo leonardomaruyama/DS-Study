{
 "cells": [
  {
   "cell_type": "markdown",
   "id": "379acaf5",
   "metadata": {},
   "source": [
    "# Módulo 3"
   ]
  },
  {
   "cell_type": "markdown",
   "id": "f6a97aba",
   "metadata": {},
   "source": [
    "### Exercício 1"
   ]
  },
  {
   "cell_type": "code",
   "execution_count": 1,
   "id": "29a02d91",
   "metadata": {},
   "outputs": [],
   "source": [
    "def pares_lista(lista):\n",
    "    pares = []\n",
    "    for i in lista:\n",
    "        if i % 2 == 0:\n",
    "            pares.append(i)\n",
    "        else:\n",
    "            continue\n",
    "    return pares"
   ]
  },
  {
   "cell_type": "code",
   "execution_count": 2,
   "id": "af8eb1a2",
   "metadata": {},
   "outputs": [
    {
     "data": {
      "text/plain": [
       "[2, 4]"
      ]
     },
     "execution_count": 2,
     "metadata": {},
     "output_type": "execute_result"
    }
   ],
   "source": [
    "lista = [1,2,3,4,5]\n",
    "pares_lista(lista)"
   ]
  },
  {
   "cell_type": "markdown",
   "id": "47f3b56f",
   "metadata": {},
   "source": [
    "### Exercício 2"
   ]
  },
  {
   "cell_type": "code",
   "execution_count": 3,
   "id": "8e4e56f9",
   "metadata": {},
   "outputs": [],
   "source": [
    "import random as rd\n",
    "\n",
    "def sorteador():\n",
    "    try:\n",
    "        n_sorteios = int(input(\"Quantidade de sorteio: \")) \n",
    "        n = 1\n",
    "        num_sorteados = []\n",
    "\n",
    "        while n <= n_sorteios:\n",
    "            random_number = rd.randint(1, 50)\n",
    "            num_sorteados.append(random_number)\n",
    "            n = n + 1\n",
    "        return num_sorteados\n",
    "        \n",
    "    except ValueError:\n",
    "        print(\"Houve um erro no sorteio, digite somente números!\")    "
   ]
  },
  {
   "cell_type": "code",
   "execution_count": 4,
   "id": "1b576b65",
   "metadata": {},
   "outputs": [
    {
     "name": "stdout",
     "output_type": "stream",
     "text": [
      "Quantidade de sorteio: 5\n"
     ]
    },
    {
     "data": {
      "text/plain": [
       "[48, 12, 50, 5, 17]"
      ]
     },
     "execution_count": 4,
     "metadata": {},
     "output_type": "execute_result"
    }
   ],
   "source": [
    "sorteador()"
   ]
  },
  {
   "cell_type": "code",
   "execution_count": 5,
   "id": "c0f5b913",
   "metadata": {},
   "outputs": [
    {
     "name": "stdout",
     "output_type": "stream",
     "text": [
      "Quantidade de sorteio: três\n",
      "Houve um erro no sorteio, digite somente números!\n"
     ]
    }
   ],
   "source": [
    "sorteador()"
   ]
  },
  {
   "cell_type": "markdown",
   "id": "fa412363",
   "metadata": {},
   "source": [
    "### Exercício 3"
   ]
  },
  {
   "cell_type": "code",
   "execution_count": 6,
   "id": "86d76b9c",
   "metadata": {},
   "outputs": [],
   "source": [
    "class Cliente:\n",
    "\n",
    "    def __init__(self):\n",
    "        #atributos\n",
    "        self.nome = input(\"Digite seu nome: \")\n",
    "        self.saldo = 0.00\n",
    "        print(\"Seja bem vindo\", self.nome)\n",
    "        print(\"Saldo atual: R$\", self.saldo)\n",
    "    \n",
    "    #Métodos\n",
    "    def depositar(self):\n",
    "        self.deposito = float(input(\"Valor do depósito:\"))\n",
    "        self.saldo += self.deposito\n",
    "        print(\"Saldo atual: R$\", self.saldo)\n",
    "        \n",
    "    def sacar(self):\n",
    "        self.saque = float(input(\"Valor do saque:\"))\n",
    "        if self.saldo >= self.saque:\n",
    "            self.saldo -= self.saque\n",
    "            print(\"Saldo atual: R$\", self.saldo)\n",
    "        else:\n",
    "            print(\"Não foi possível realizar saque, saldo indisponível.\")"
   ]
  },
  {
   "cell_type": "code",
   "execution_count": 7,
   "id": "abffc8a8",
   "metadata": {},
   "outputs": [
    {
     "name": "stdout",
     "output_type": "stream",
     "text": [
      "Digite seu nome: Leonardo\n",
      "Seja bem vindo Leonardo\n",
      "Saldo atual: R$ 0.0\n"
     ]
    }
   ],
   "source": [
    "cliente1 = Cliente()"
   ]
  },
  {
   "cell_type": "code",
   "execution_count": 8,
   "id": "fce88da2",
   "metadata": {},
   "outputs": [
    {
     "name": "stdout",
     "output_type": "stream",
     "text": [
      "Valor do depósito:500\n",
      "Saldo atual: R$ 500.0\n"
     ]
    }
   ],
   "source": [
    "cliente1.depositar()"
   ]
  },
  {
   "cell_type": "code",
   "execution_count": 9,
   "id": "22c93b7c",
   "metadata": {},
   "outputs": [
    {
     "name": "stdout",
     "output_type": "stream",
     "text": [
      "Valor do saque:20\n",
      "Saldo atual: R$ 480.0\n"
     ]
    }
   ],
   "source": [
    "cliente1.sacar()"
   ]
  },
  {
   "cell_type": "code",
   "execution_count": 10,
   "id": "0c157106",
   "metadata": {},
   "outputs": [
    {
     "name": "stdout",
     "output_type": "stream",
     "text": [
      "Valor do saque:500\n",
      "Não foi possível realizar saque, saldo indisponível.\n"
     ]
    }
   ],
   "source": [
    "cliente1.sacar()"
   ]
  },
  {
   "cell_type": "code",
   "execution_count": null,
   "id": "b6887caf",
   "metadata": {},
   "outputs": [],
   "source": []
  }
 ],
 "metadata": {
  "kernelspec": {
   "display_name": "Python 3",
   "language": "python",
   "name": "python3"
  },
  "language_info": {
   "codemirror_mode": {
    "name": "ipython",
    "version": 3
   },
   "file_extension": ".py",
   "mimetype": "text/x-python",
   "name": "python",
   "nbconvert_exporter": "python",
   "pygments_lexer": "ipython3",
   "version": "3.8.8"
  }
 },
 "nbformat": 4,
 "nbformat_minor": 5
}
