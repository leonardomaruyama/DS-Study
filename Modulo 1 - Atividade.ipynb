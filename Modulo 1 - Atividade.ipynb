{
 "cells": [
  {
   "cell_type": "markdown",
   "id": "7dfd5ee6",
   "metadata": {},
   "source": [
    "#### Esse código diz olá"
   ]
  },
  {
   "cell_type": "code",
   "execution_count": 1,
   "id": "1880d354",
   "metadata": {},
   "outputs": [
    {
     "name": "stdout",
     "output_type": "stream",
     "text": [
      "Olá\n"
     ]
    }
   ],
   "source": [
    "print(\"Olá\")"
   ]
  }
 ],
 "metadata": {
  "kernelspec": {
   "display_name": "Python 3",
   "language": "python",
   "name": "python3"
  },
  "language_info": {
   "codemirror_mode": {
    "name": "ipython",
    "version": 3
   },
   "file_extension": ".py",
   "mimetype": "text/x-python",
   "name": "python",
   "nbconvert_exporter": "python",
   "pygments_lexer": "ipython3",
   "version": "3.8.8"
  }
 },
 "nbformat": 4,
 "nbformat_minor": 5
}
