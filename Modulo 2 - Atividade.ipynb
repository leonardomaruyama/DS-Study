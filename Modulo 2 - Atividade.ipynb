{
 "cells": [
  {
   "cell_type": "markdown",
   "id": "a5b9a91d",
   "metadata": {},
   "source": [
    "### Ex.1"
   ]
  },
  {
   "cell_type": "code",
   "execution_count": 1,
   "id": "97901fe4",
   "metadata": {},
   "outputs": [],
   "source": [
    "vs1 = \"a\"\n",
    "vs2 = \"b\""
   ]
  },
  {
   "cell_type": "code",
   "execution_count": 2,
   "id": "dc884359",
   "metadata": {},
   "outputs": [
    {
     "name": "stdout",
     "output_type": "stream",
     "text": [
      "False\n"
     ]
    }
   ],
   "source": [
    "print(vs1 == vs2)"
   ]
  },
  {
   "cell_type": "code",
   "execution_count": 3,
   "id": "37595b5b",
   "metadata": {},
   "outputs": [],
   "source": [
    "vn1 = 6\n",
    "vn2 = 15"
   ]
  },
  {
   "cell_type": "code",
   "execution_count": 4,
   "id": "7af6c5fa",
   "metadata": {},
   "outputs": [
    {
     "name": "stdout",
     "output_type": "stream",
     "text": [
      "3\n"
     ]
    }
   ],
   "source": [
    "print(vn2%vn1)"
   ]
  },
  {
   "cell_type": "markdown",
   "id": "998e2805",
   "metadata": {},
   "source": [
    "#### Resposta: Para as variáveis string vs1 é diferente de vs2, o resultado e falso. Para as variáveis numéricas a divisão de vn2 por vn1 tem resto igual a 3."
   ]
  },
  {
   "cell_type": "markdown",
   "id": "685b7e3a",
   "metadata": {},
   "source": [
    "### Ex.2"
   ]
  },
  {
   "cell_type": "code",
   "execution_count": 5,
   "id": "d800fa87",
   "metadata": {},
   "outputs": [],
   "source": [
    "ls = [\"a\",\"b\",\"c\",\"d\",\"a\",\"c\"]"
   ]
  },
  {
   "cell_type": "code",
   "execution_count": 6,
   "id": "38f9ca83",
   "metadata": {},
   "outputs": [
    {
     "data": {
      "text/plain": [
       "{'a', 'b', 'c', 'd'}"
      ]
     },
     "execution_count": 6,
     "metadata": {},
     "output_type": "execute_result"
    }
   ],
   "source": [
    "set(ls)"
   ]
  },
  {
   "cell_type": "markdown",
   "id": "e2796fea",
   "metadata": {},
   "source": [
    "#### Resposta: Ao criarmos uma lista com elementos repetidos e ao convertemos para conjunto estes elementos ficam distintos, ou seja, aparecem cada elemento apenas uma vez."
   ]
  },
  {
   "cell_type": "markdown",
   "id": "022e5262",
   "metadata": {},
   "source": [
    "### Ex.3"
   ]
  },
  {
   "cell_type": "code",
   "execution_count": 7,
   "id": "ef947c58",
   "metadata": {},
   "outputs": [],
   "source": [
    "dic = { 'cliente1' : ['a','b','c'], \\\n",
    "        'cliente2' : ['d','e'], \\\n",
    "        'cliente3' : ['f','g','h','i'] }"
   ]
  },
  {
   "cell_type": "code",
   "execution_count": 8,
   "id": "da7e6aac",
   "metadata": {},
   "outputs": [
    {
     "name": "stdout",
     "output_type": "stream",
     "text": [
      "{'cliente1': ['a', 'b', 'c'], 'cliente2': ['d', 'e'], 'cliente3': ['f', 'g', 'h', 'i']}\n"
     ]
    }
   ],
   "source": [
    "print(dic)"
   ]
  },
  {
   "cell_type": "markdown",
   "id": "ada91e5a",
   "metadata": {},
   "source": [
    "#### Resposta: Ao criarmos o dicionário observamos o cliente como chave, e a lista de produtos que os clientes consumiram"
   ]
  },
  {
   "cell_type": "code",
   "execution_count": null,
   "id": "25b5e4a1",
   "metadata": {},
   "outputs": [],
   "source": []
  }
 ],
 "metadata": {
  "kernelspec": {
   "display_name": "Python 3",
   "language": "python",
   "name": "python3"
  },
  "language_info": {
   "codemirror_mode": {
    "name": "ipython",
    "version": 3
   },
   "file_extension": ".py",
   "mimetype": "text/x-python",
   "name": "python",
   "nbconvert_exporter": "python",
   "pygments_lexer": "ipython3",
   "version": "3.8.8"
  }
 },
 "nbformat": 4,
 "nbformat_minor": 5
}
